{
 "metadata": {
  "name": "",
  "signature": "sha256:1b1d6f6eb8a8c107d424b984b36e240b6c9a240f8d3872ea93e6d7e2b5009e7c"
 },
 "nbformat": 3,
 "nbformat_minor": 0,
 "worksheets": [
  {
   "cells": [
    {
     "cell_type": "code",
     "collapsed": false,
     "input": [
      "import pandas as pd\n",
      "import numpy as np\n",
      "from sklearn.feature_selection import SelectKBest\n",
      "from sklearn.cross_validation import StratifiedShuffleSplit, train_test_split\n",
      "from sklearn.preprocessing import LabelEncoder, OneHotEncoder\n",
      "from sklearn.metrics import auc, f1_score, log_loss\n",
      "from sklearn.ensemble import RandomForestClassifier"
     ],
     "language": "python",
     "metadata": {},
     "outputs": [],
     "prompt_number": 4
    },
    {
     "cell_type": "code",
     "collapsed": false,
     "input": [
      "train_dat = pd.read_csv('data/train.csv')\n",
      "labelEncoder = LabelEncoder()\n",
      "onehotEncoder = OneHotEncoder()\n",
      "train_dat.head()\n",
      "new_dat = train_dat.drop(['id','target'],axis=1)\n",
      "categories = labelEncoder.fit_transform(train_dat.target).reshape(-1,1)\n",
      "onehot_categorical = onehotEncoder.fit_transform(categories.reshape(-1,1)).toarray()"
     ],
     "language": "python",
     "metadata": {},
     "outputs": [],
     "prompt_number": 14
    },
    {
     "cell_type": "code",
     "collapsed": false,
     "input": [
      "X_train,X_test,y_train, y_test = train_test_split(new_dat,categories,test_size=0.3,stratify=categories)"
     ],
     "language": "python",
     "metadata": {},
     "outputs": [],
     "prompt_number": 15
    },
    {
     "cell_type": "code",
     "collapsed": false,
     "input": [
      "clfs = []"
     ],
     "language": "python",
     "metadata": {},
     "outputs": [],
     "prompt_number": 16
    },
    {
     "cell_type": "code",
     "collapsed": false,
     "input": [
      "rfc = RandomForestClassifier(n_estimators=50, random_state=4111, n_jobs=-1)\n",
      "rfc.fit(X_train,y_train)\n",
      "print('RFC LogLoss {score}'.format(score=log_loss(y_test, rfc.predict_proba(X_test))))\n",
      "clfs.append(rfc)"
     ],
     "language": "python",
     "metadata": {},
     "outputs": [
      {
       "output_type": "stream",
       "stream": "stdout",
       "text": [
        "RFC LogLoss 0.67912507217\n"
       ]
      }
     ],
     "prompt_number": 19
    },
    {
     "cell_type": "code",
     "collapsed": false,
     "input": [
      "logreg = LogisticRegression()\n",
      "logreg.fit(train_x, train_y)\n",
      "print('LogisticRegression LogLoss {score}'.format(score=log_loss(test_y, logreg.predict_proba(test_x))))\n",
      "clfs.append(logreg)\n"
     ],
     "language": "python",
     "metadata": {},
     "outputs": []
    },
    {
     "cell_type": "code",
     "collapsed": false,
     "input": [],
     "language": "python",
     "metadata": {},
     "outputs": []
    }
   ],
   "metadata": {}
  }
 ]
}