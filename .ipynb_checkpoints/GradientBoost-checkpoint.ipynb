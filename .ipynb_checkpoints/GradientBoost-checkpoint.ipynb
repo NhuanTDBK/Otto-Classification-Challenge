{
 "metadata": {
  "name": "",
  "signature": "sha256:29c6dfeaab0170b9938f2d1b0064c05abc440b93c27ead180ed8b12616ae720c"
 },
 "nbformat": 3,
 "nbformat_minor": 0,
 "worksheets": [
  {
   "cells": [
    {
     "cell_type": "code",
     "collapsed": false,
     "input": [
      "import numpy as np\n",
      "import pandas as pd\n",
      "from sklearn.ensemble import GradientBoostingClassifier\n",
      "from sklearn.metrics import log_loss\n",
      "from sklearn.grid_search import RandomizedSearchCV\n",
      "from sklearn.cross_validation import StratifiedKFold\n",
      "from scipy.stats import randint as sp_randint\n",
      "from scipy.stats import uniform as sp_uniform\n",
      "import numpy as np\n",
      "import pickle\n",
      "from utils import *"
     ],
     "language": "python",
     "metadata": {},
     "outputs": [],
     "prompt_number": 2
    },
    {
     "cell_type": "code",
     "collapsed": false,
     "input": [
      "n_iter = 200\n",
      "k_fold = 10\n",
      "# cv = kfold\n",
      "# initialize the classifier\n",
      "X_train, X_val, y_train, y_val, cv = load_train_and_kfold(n_folds=k_fold)"
     ],
     "language": "python",
     "metadata": {},
     "outputs": [],
     "prompt_number": 3
    },
    {
     "cell_type": "code",
     "collapsed": false,
     "input": [
      "model = GradientBoostingClassifier(random_state=4111)\n",
      "model_name = model.__class__.__name__\n",
      "param_grid = {\n",
      "     'learning_rate': sp_uniform(loc=0e0,scale=1e0),\n",
      "      \"max_depth\": sp_randint(4, 100),\n",
      "      \"max_features\": sp_randint(1, 11),\n",
      "      \"min_samples_split\": sp_randint(1, 11),\n",
      "      \"min_samples_leaf\": sp_randint(1, 11),\n",
      "      'subsample': np.arange(0.6,1.0,step=0.05),\n",
      "#       \"n_estimators\": sp_randint(100,600)\n",
      "}"
     ],
     "language": "python",
     "metadata": {},
     "outputs": [],
     "prompt_number": 13
    },
    {
     "cell_type": "code",
     "collapsed": false,
     "input": [
      "search_GB = RandomizedSearchCV(model,param_grid,scoring='log_loss',n_jobs=-1,\n",
      "               n_iter=2,cv=cv,verbose=True)\n",
      "search_GB.fit(X_train,y_train.flatten())"
     ],
     "language": "python",
     "metadata": {},
     "outputs": [
      {
       "output_type": "stream",
       "stream": "stdout",
       "text": [
        "Fitting 10 folds for each of 2 candidates, totalling 20 fits\n"
       ]
      }
     ]
    },
    {
     "cell_type": "code",
     "collapsed": false,
     "input": [
      "log_model = search_GB.score(X_val,y_val.flatten())\n",
      "print \"Log loss = %s\"%log_model\n",
      "X_test = get_test()\n",
      "y_pred = search_GB.predict_proba(X_test)\n",
      "save_submission(model_name,log_model,y_pred)"
     ],
     "language": "python",
     "metadata": {},
     "outputs": []
    },
    {
     "cell_type": "code",
     "collapsed": false,
     "input": [
      "log"
     ],
     "language": "python",
     "metadata": {},
     "outputs": []
    }
   ],
   "metadata": {}
  }
 ]
}