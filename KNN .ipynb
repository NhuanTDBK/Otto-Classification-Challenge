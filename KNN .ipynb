{
 "metadata": {
  "name": "",
  "signature": "sha256:f556f27463ce0ca99ce19abccfdd9c8b0e42ce48fa7574ed78b91c692774b2c2"
 },
 "nbformat": 3,
 "nbformat_minor": 0,
 "worksheets": [
  {
   "cells": [
    {
     "cell_type": "code",
     "collapsed": false,
     "input": [
      "import numpy as np\n",
      "import pandas as pd\n",
      "from sklearn.neighbors import KNeighborsClassifier\n",
      "from sklearn.metrics import log_loss\n",
      "from sklearn.grid_search import RandomizedSearchCV\n",
      "from sklearn.cross_validation import StratifiedKFold\n",
      "from scipy.stats import randint as sp_randint\n",
      "from scipy.stats import uniform as sp_uniform\n",
      "import numpy as np\n",
      "import pickle\n",
      "from utils import *"
     ],
     "language": "python",
     "metadata": {},
     "outputs": [],
     "prompt_number": 3
    },
    {
     "cell_type": "code",
     "collapsed": false,
     "input": [
      "n_iter = 200\n",
      "k_fold = 10\n",
      "# cv = kfold\n",
      "# initialize the classifier\n",
      "X_train, X_val, y_train, y_val, cv = load_train_and_kfold(n_folds=k_fold)"
     ],
     "language": "python",
     "metadata": {},
     "outputs": [],
     "prompt_number": 2
    },
    {
     "cell_type": "code",
     "collapsed": false,
     "input": [
      "model = KNeighborsClassifier()\n",
      "model_name = model.__class__.__name__\n",
      "param_grid = {\n",
      "      \"n_neighbors\": sp_randint(4, 100),\n",
      "      \"algorithm\" : [\"auto\", \"ball_tree\", \"kd_tree\", \"brute\"],\n",
      "#       \"n_estimators\": sp_randint(100,600)\n",
      "}"
     ],
     "language": "python",
     "metadata": {},
     "outputs": [],
     "prompt_number": 4
    },
    {
     "cell_type": "code",
     "collapsed": false,
     "input": [
      "search_GB = RandomizedSearchCV(model,param_grid,scoring='log_loss',n_jobs=-1,\n",
      "               n_iter=2,cv=cv,verbose=True)\n",
      "search_GB.fit(X_train,y_train.flatten())"
     ],
     "language": "python",
     "metadata": {},
     "outputs": [
      {
       "output_type": "stream",
       "stream": "stdout",
       "text": [
        "Fitting 10 folds for each of 2 candidates, totalling 20 fits\n"
       ]
      }
     ]
    },
    {
     "cell_type": "code",
     "collapsed": false,
     "input": [],
     "language": "python",
     "metadata": {},
     "outputs": []
    }
   ],
   "metadata": {}
  }
 ]
}